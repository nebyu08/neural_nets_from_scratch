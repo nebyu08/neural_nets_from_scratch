{
 "cells": [
  {
   "cell_type": "markdown",
   "id": "5b4fbb8e-2b81-43cf-acc2-2c3819877bcf",
   "metadata": {},
   "source": [
    "# lets make a convolutional network "
   ]
  },
  {
   "cell_type": "code",
   "execution_count": 1,
   "id": "6e768339-2922-4d84-bb34-4045dfbdf06b",
   "metadata": {},
   "outputs": [],
   "source": [
    "# som helper functions\n",
    "def same_dim(x,dim):\n",
    "    assert len(x.shape)==dim, \\\n",
    "    ''' they are suppose to have the same\n",
    "    dimension but first one is {0} and the second\n",
    "    one is {1} '''.format(len(x.shape),dim)\n",
    "\n",
    "def assert_same_shape(x,x_grad):\n",
    "    assert x.shape == x_grad.shape ,\\\n",
    "    ''' they are suppose to have the same shape \n",
    "    but the first one is {0} and the second one \n",
    "    is {1}'''.format(tuple(x.shape),tuple(x_grad.shape))"
   ]
  },
  {
   "cell_type": "code",
   "execution_count": 2,
   "id": "5d85d18d-0800-4ffe-8053-23982d0c2d1d",
   "metadata": {},
   "outputs": [],
   "source": [
    "import numpy as np\n",
    "from numpy import ndarray\n",
    "from __future__ import division"
   ]
  },
  {
   "cell_type": "code",
   "execution_count": 3,
   "id": "9d78b90d-168d-4664-9901-a9b7aea4807e",
   "metadata": {},
   "outputs": [],
   "source": [
    "a=[12,34,45,56,90]"
   ]
  },
  {
   "cell_type": "code",
   "execution_count": 4,
   "id": "4215cbd4-7925-44b7-8481-ba01c26f0f1c",
   "metadata": {},
   "outputs": [
    {
     "data": {
      "text/plain": [
       "[0, 12, 34, 45, 56, 90, 0]"
      ]
     },
     "execution_count": 4,
     "metadata": {},
     "output_type": "execute_result"
    }
   ],
   "source": [
    "new=[0]\n",
    "for i in a:\n",
    "    new.append(i)\n",
    "new.append(0)\n",
    "new"
   ]
  },
  {
   "cell_type": "code",
   "execution_count": 5,
   "id": "e1d05b9e-6431-4207-8f97-bbbe142fdb89",
   "metadata": {},
   "outputs": [
    {
     "data": {
      "text/plain": [
       "array([0, 0, 0, 0, 0])"
      ]
     },
     "execution_count": 5,
     "metadata": {},
     "output_type": "execute_result"
    }
   ],
   "source": [
    "np.repeat([0],5)"
   ]
  },
  {
   "cell_type": "code",
   "execution_count": 129,
   "id": "4871a427-6459-4ad5-adc4-7b3d94816dc7",
   "metadata": {},
   "outputs": [],
   "source": [
    "def _1d_pad(arr:np.ndarray,num:int)->np.ndarray:\n",
    "    temp=np.array([0])\n",
    "    temp=temp.flatten()\n",
    "    temp=np.repeat(temp,num)\n",
    "    return np.concatenate([temp,arr,temp])"
   ]
  },
  {
   "cell_type": "code",
   "execution_count": 7,
   "id": "d1557599-ad5d-4881-9364-f9150ac5ec5f",
   "metadata": {
    "scrolled": true
   },
   "outputs": [
    {
     "data": {
      "text/plain": [
       "array([0, 1, 2, 3, 4, 5, 6, 7, 8, 9, 0])"
      ]
     },
     "execution_count": 7,
     "metadata": {},
     "output_type": "execute_result"
    }
   ],
   "source": [
    "te=np.array([1,2,3,4,5,6,7,8,9])\n",
    "_1d_pad(te,1)"
   ]
  },
  {
   "cell_type": "code",
   "execution_count": 8,
   "id": "b6b8c206-1404-4caa-aefc-b3ff599f053d",
   "metadata": {},
   "outputs": [],
   "source": [
    "def _1d_conv(inp:np.ndarray,param:np.ndarray):\n",
    "    '''going to convolove the input'''\n",
    "    # check is they are the same dimension\n",
    "    same_dim(inp,1)\n",
    "    same_dim(param,1)\n",
    "    \n",
    "    #pad the input\n",
    "    param_len=param.shape[0]\n",
    "    pading_el=param_len//2\n",
    "    input_padded=_1d_pad(inp,pading_el)\n",
    "\n",
    "    #lets convolve the input and make output\n",
    "    out=np.zeros(inp.shape[0])\n",
    "    for i in range(out.shape[0]):\n",
    "        for j in range(param_len):\n",
    "            out[i]+=param[j]*input_padded[i+j]\n",
    "            \n",
    "    assert_same_shape(inp,out)\n",
    "    return out"
   ]
  },
  {
   "cell_type": "code",
   "execution_count": 9,
   "id": "fe9dd71b-75ae-4302-8580-75610f4d9b48",
   "metadata": {},
   "outputs": [
    {
     "name": "stdout",
     "output_type": "stream",
     "text": [
      "[ 8. 14. 20. 26. 32. 38. 44. 50. 26.]\n",
      "9\n",
      "9\n"
     ]
    }
   ],
   "source": [
    "param=np.array([1,2,3])\n",
    "x=_1d_conv(te,param)\n",
    "print(x)\n",
    "print(len(x))\n",
    "print(len(te))"
   ]
  },
  {
   "cell_type": "code",
   "execution_count": 10,
   "id": "f81e0a25-369e-4cbb-bef0-594d45906785",
   "metadata": {},
   "outputs": [],
   "source": [
    "def sum_conv(inp:np.ndarray,param:np.ndarray):\n",
    "    out=_1d_conv(inp,param)\n",
    "    sum=np.sum(out)\n",
    "    return sum"
   ]
  },
  {
   "cell_type": "code",
   "execution_count": 11,
   "id": "401230c1-e7d3-4dcf-b1e2-81e1c19ff5bf",
   "metadata": {},
   "outputs": [
    {
     "data": {
      "text/plain": [
       "39.0"
      ]
     },
     "execution_count": 11,
     "metadata": {},
     "output_type": "execute_result"
    }
   ],
   "source": [
    "input_1d = np.array([1,2,3,4,5])\n",
    "param_1d = np.array([1,1,1])\n",
    "sum_conv(input_1d,param_1d)"
   ]
  },
  {
   "cell_type": "markdown",
   "id": "03003940-45b1-483e-9034-261649a6610d",
   "metadata": {},
   "source": [
    "# backpropagation"
   ]
  },
  {
   "cell_type": "code",
   "execution_count": 12,
   "id": "4b2dc33c-b453-4011-9be5-12b79bd44c8d",
   "metadata": {},
   "outputs": [
    {
     "data": {
      "text/plain": [
       "10.0"
      ]
     },
     "execution_count": 12,
     "metadata": {},
     "output_type": "execute_result"
    }
   ],
   "source": [
    "input_1d = np.array([1,2,3,4,5])\n",
    "param_1d_2 = np.array([2,1,1])\n",
    "sum_conv(input_1d,param_1d_2) - sum_conv(input_1d,param_1d)"
   ]
  },
  {
   "cell_type": "code",
   "execution_count": 13,
   "id": "e2fdb199-3926-426b-ad88-6a156ab68d48",
   "metadata": {},
   "outputs": [],
   "source": [
    "# calculating the input gradient\n",
    "\n",
    "def param_grad(inp:np.ndarray,\n",
    "               param:np.ndarray,\n",
    "              output_grad:np.ndarray=None)->np.ndarray:\n",
    "    #lets pad our input\n",
    "    param_len=param.shape[0]\n",
    "    embed_num=param_len//2\n",
    "    input_pad=_1d_pad(inp,embed_num)\n",
    "    \n",
    "    if output_grad is None:\n",
    "        output_grad=np.ones_like(inp)\n",
    "    else:\n",
    "        assert_same_shape(inp,output_grad)\n",
    "        \n",
    "    param_grad=np.zeros_like(param)\n",
    "    \n",
    "    for i in range(inp.shape[0]):\n",
    "        for j in range(param.shape[0]):\n",
    "            param_grad[j]+=input_pad[i+j]*output_grad[i]\n",
    "\n",
    "    \n",
    "    assert_same_shape(param,param_grad)\n",
    "    return param_grad\n"
   ]
  },
  {
   "cell_type": "code",
   "execution_count": 14,
   "id": "4f6454f9-34c8-45b6-9860-bc4c25db3071",
   "metadata": {},
   "outputs": [],
   "source": [
    "def _input_grad_1d(inp:np.ndarray,\n",
    "                  param:np.ndarray,\n",
    "                  output_grad:np.ndarray=None)->np.ndarray:\n",
    "    \n",
    "    \n",
    "    param_len=param.shape[0]\n",
    "    emb_num=param_len//2\n",
    "    \n",
    "    if output_grad is None:\n",
    "        output_grad=np.ones_like(inp)\n",
    "    else:\n",
    "        assert_same_shape(output_grad,inp)\n",
    "\n",
    "    input_grad=np.zeros_like(output_grad)\n",
    "    output_pad=_1d_pad(output_grad,emb_num)\n",
    "\n",
    "    for i in range(inp.shape[0]):\n",
    "        for j in range(param.shape[0]):\n",
    "            input_grad[i] += output_pad[i+param_len-j-1]*param[j]\n",
    "            \n",
    "    assert_same_shape(input_grad,output_grad)\n",
    "    return input_grad\n"
   ]
  },
  {
   "cell_type": "markdown",
   "id": "62f54d53-3638-4a30-93aa-fc033671fd86",
   "metadata": {},
   "source": [
    "# example"
   ]
  },
  {
   "cell_type": "code",
   "execution_count": 15,
   "id": "895746b9-4f9b-44d3-8580-8526ba44622f",
   "metadata": {},
   "outputs": [
    {
     "name": "stdout",
     "output_type": "stream",
     "text": [
      "input gradient is:  [2 3 3 2]\n"
     ]
    }
   ],
   "source": [
    "input_1d = np.array([10,11,12,13])\n",
    "param_1d_2 = np.array([2,1])\n",
    "print(\"input gradient is: \", _input_grad_1d(input_1d,param_1d))\n",
    "#print(\"parameter gradient is \",param_grad(input_1d,param_1d_2))"
   ]
  },
  {
   "cell_type": "code",
   "execution_count": 16,
   "id": "ded0626d-7bc0-4822-bc05-5ac8daeb8e87",
   "metadata": {},
   "outputs": [
    {
     "data": {
      "text/plain": [
       "array([12, 16,  7])"
      ]
     },
     "execution_count": 16,
     "metadata": {},
     "output_type": "execute_result"
    }
   ],
   "source": [
    "_input_grad_1d(np.array([90,23,43]),np.array([9,3,4]))"
   ]
  },
  {
   "cell_type": "markdown",
   "id": "40b7bb1c-d8b5-4d35-b553-3ec221fc58d6",
   "metadata": {},
   "source": [
    "# batches"
   ]
  },
  {
   "cell_type": "code",
   "execution_count": 17,
   "id": "a005a86f-3545-48f4-8e45-55336c6d63df",
   "metadata": {},
   "outputs": [
    {
     "data": {
      "text/plain": [
       "(2, 3)"
      ]
     },
     "execution_count": 17,
     "metadata": {},
     "output_type": "execute_result"
    }
   ],
   "source": [
    "t=np.array([[12,34,45],[90,94,99]])\n",
    "t.shape"
   ]
  },
  {
   "cell_type": "code",
   "execution_count": 18,
   "id": "274b6dbd-7c1a-4703-8a19-e28c78e38436",
   "metadata": {},
   "outputs": [],
   "source": [
    "def _pad_1d_batch(inp:np.ndarray,\n",
    "                  num:int):\n",
    "    outs=[_1d_pad(objs,num) for objs in inp]\n",
    "    return outs"
   ]
  },
  {
   "cell_type": "code",
   "execution_count": 19,
   "id": "2a101cdf-f8de-4866-893a-6c62461c68b2",
   "metadata": {},
   "outputs": [],
   "source": [
    "#compute the 1d batche\n",
    "input_1d_batch = np.array([[0,1,2,3,4,5,6], \n",
    "                           [1,2,3,4,5,6,7]])"
   ]
  },
  {
   "cell_type": "code",
   "execution_count": 20,
   "id": "0f83f735-d877-43af-b713-16aaa4bfc5d3",
   "metadata": {},
   "outputs": [
    {
     "data": {
      "text/plain": [
       "[array([0, 0, 0, 0, 1, 2, 3, 4, 5, 6, 0, 0, 0]),\n",
       " array([0, 0, 0, 1, 2, 3, 4, 5, 6, 7, 0, 0, 0])]"
      ]
     },
     "execution_count": 20,
     "metadata": {},
     "output_type": "execute_result"
    }
   ],
   "source": [
    "_pad_1d_batch(input_1d_batch,3)"
   ]
  },
  {
   "cell_type": "markdown",
   "id": "8926ba02-7843-4b14-bbb8-f9ddf7d450c4",
   "metadata": {},
   "source": [
    "# forward "
   ]
  },
  {
   "cell_type": "code",
   "execution_count": 21,
   "id": "48fb9447-849f-475d-8ed6-f454990dae78",
   "metadata": {},
   "outputs": [],
   "source": [
    "def _1d_batch_conv(inp:np.ndarray,\n",
    "                  param:np.ndarray)->np.ndarray:\n",
    "    outs=[_1d_conv(objs,param) for objs in inp]\n",
    "    return np.stack(outs)"
   ]
  },
  {
   "cell_type": "code",
   "execution_count": 22,
   "id": "19cce131-8325-4ba0-847b-15a587faab8d",
   "metadata": {},
   "outputs": [
    {
     "data": {
      "text/plain": [
       "array([[ 1.,  3.,  6.,  9., 12., 15., 11.],\n",
       "       [ 3.,  6.,  9., 12., 15., 18., 13.]])"
      ]
     },
     "execution_count": 22,
     "metadata": {},
     "output_type": "execute_result"
    }
   ],
   "source": [
    "params=np.array([12,23,34])\n",
    "_1d_batch_conv(input_1d_batch,param_1d)"
   ]
  },
  {
   "cell_type": "markdown",
   "id": "1f2c49ce-ea0c-4617-b988-3db469130ffa",
   "metadata": {},
   "source": [
    "# gradient"
   ]
  },
  {
   "cell_type": "markdown",
   "id": "1a2fd904-0d66-4ee7-aca9-9dd6e5b1dd63",
   "metadata": {},
   "source": [
    "### input gradient"
   ]
  },
  {
   "cell_type": "code",
   "execution_count": 23,
   "id": "8015206f-7d9b-485a-ba01-2c7f36b0b6f1",
   "metadata": {},
   "outputs": [],
   "source": [
    "def input_grad_1d_batch(inp:np.ndarray,\n",
    "              param:np.ndarray)->np.ndarray:\n",
    "    out=_1d_batch_conv(inp,param)\n",
    "    output_grad=np.ones_like(out)\n",
    "    \n",
    "    batch_size=output_grad.shape[0]\n",
    "    grad=[_input_grad_1d(inp[i],param,output_grad[i]) for i in range(batch_size)]\n",
    "    return np.stack(grad)"
   ]
  },
  {
   "cell_type": "code",
   "execution_count": 24,
   "id": "0fd2e828-4c41-4cf5-b8cc-d99830c8311a",
   "metadata": {},
   "outputs": [
    {
     "data": {
      "text/plain": [
       "array([[2., 3., 3., 3., 3., 3., 3.],\n",
       "       [2., 3., 3., 3., 3., 3., 3.]])"
      ]
     },
     "execution_count": 24,
     "metadata": {},
     "output_type": "execute_result"
    }
   ],
   "source": [
    "input_grad_1d_batch(input_1d_batch,param_1d_2)"
   ]
  },
  {
   "cell_type": "markdown",
   "id": "7c2cc6c5-e768-4a9c-89ef-2e80af64a63c",
   "metadata": {},
   "source": [
    "### parameter gradient"
   ]
  },
  {
   "cell_type": "code",
   "execution_count": 25,
   "id": "41f217c5-58b9-4667-84cc-993106735b19",
   "metadata": {},
   "outputs": [],
   "source": [
    "def param_grad_1d_batch(inp:np.ndarray,\n",
    "                       param:np.ndarray,\n",
    "                       )->np.ndarray:\n",
    "    ''' this calcualtes the parameter gradient of 1d input batch'''\n",
    "    output_grad=np.ones_like(inp)\n",
    "    input_pad=_pad_1d_batch(inp,1)\n",
    "\n",
    "    param_grad=np.zeros_like(param)\n",
    "    \n",
    "    for i in range(inp.shape[0]):\n",
    "        for j in range(inp.shape[1]):\n",
    "            for k in range(param.shape[0]):\n",
    "                param_grad[k]+=input_pad[i][k+j]*output_grad[i][j]\n",
    "    return param_grad"
   ]
  },
  {
   "cell_type": "code",
   "execution_count": 26,
   "id": "e7e2f826-0d57-4fb5-9cc9-10611ed2a53a",
   "metadata": {},
   "outputs": [
    {
     "data": {
      "text/plain": [
       "array([36, 49])"
      ]
     },
     "execution_count": 26,
     "metadata": {},
     "output_type": "execute_result"
    }
   ],
   "source": [
    "param_grad_1d_batch(input_1d_batch,param_1d_2)"
   ]
  },
  {
   "cell_type": "markdown",
   "id": "ded9d84c-4064-45af-97f3-5414b48d7563",
   "metadata": {},
   "source": [
    "# 2D COMPUTATIONS"
   ]
  },
  {
   "cell_type": "code",
   "execution_count": 27,
   "id": "5974c1ae-392b-4a2c-b778-40d569e00cfb",
   "metadata": {
    "scrolled": true
   },
   "outputs": [
    {
     "data": {
      "text/plain": [
       "array([[[-2.20896567, -0.00964138, -0.50867913,  0.57006757,\n",
       "         -1.60685506,  0.49517295, -0.0534404 , -0.58421673,\n",
       "          2.51417974,  2.41071086, -0.53003636, -0.75183636,\n",
       "         -0.82532866,  0.29222244,  0.05816759,  0.2196481 ,\n",
       "          0.46517556, -1.4033292 , -0.22187631, -1.18604524,\n",
       "          0.00716199, -0.52933361, -0.95646104,  2.19221808,\n",
       "         -0.5740061 ,  0.95870688,  1.04538888, -0.33396164],\n",
       "        [ 0.38738271,  1.72816799, -0.05012132,  0.15076129,\n",
       "          1.5820012 , -0.64993349,  1.79538607, -0.11774779,\n",
       "          0.9878857 , -1.80067174,  1.05004005, -2.57346564,\n",
       "         -0.89130738, -0.67647186,  1.1241367 , -0.01928825,\n",
       "          0.38804259, -1.67276991,  0.0542456 , -0.10847661,\n",
       "          2.04692904,  0.31848372, -0.59276674,  0.33933378,\n",
       "          0.15518875,  1.53750836, -0.09675682, -1.38007286],\n",
       "        [-1.89436067, -1.1993474 ,  0.30647703, -0.50215363,\n",
       "         -1.3328232 ,  2.17870037, -1.16345952, -1.77546397,\n",
       "         -0.82699276, -1.36314003, -0.38536559,  0.61245243,\n",
       "         -0.76552705, -1.52853512,  0.36139317, -0.88535538,\n",
       "         -0.81378412, -0.43781808, -0.58392417,  1.9643039 ,\n",
       "         -1.18350555, -0.33443656, -0.07786635,  1.50571935,\n",
       "          0.53221959,  0.14930397,  0.3375924 ,  0.26852478],\n",
       "        [ 0.79012266, -1.5525391 ,  1.4351315 , -0.91124809,\n",
       "          0.63692397, -0.63961212,  1.52547665,  0.04543036,\n",
       "          0.14142487, -0.59490536, -1.94987624, -0.81771522,\n",
       "         -1.05957833,  0.6079178 , -0.86198494, -0.86776033,\n",
       "         -0.01159146,  0.53861141,  0.98622919, -0.34222922,\n",
       "         -1.87310142,  0.62290426,  0.36839384,  0.56721921,\n",
       "         -1.64570517, -0.13896353,  1.53795163, -0.91349648],\n",
       "        [-2.09151665, -0.33623501, -0.50097925, -0.78186531,\n",
       "          0.36085229,  1.42514829,  0.70592137, -0.16362675,\n",
       "         -1.43654677, -0.62888537,  0.26175001,  0.07174174,\n",
       "         -0.48522023, -1.19603539,  0.18989569,  0.05833947,\n",
       "         -0.91846615, -0.67317718, -1.1121233 ,  0.91740056,\n",
       "         -0.77477809, -1.18669527, -0.34881948,  0.02320876,\n",
       "         -0.62635309,  0.46403183, -0.48386488, -0.27249328],\n",
       "        [ 0.78439601,  0.02518086, -0.74241233,  0.91728374,\n",
       "          2.24146725, -0.2290042 ,  0.06550067, -0.5453019 ,\n",
       "         -0.1049477 ,  1.50488845,  0.89008713,  0.53059617,\n",
       "          0.93126871,  0.19737127,  0.21236554,  1.64057296,\n",
       "          2.17426313, -1.10388947,  1.13395261, -2.20221805,\n",
       "          0.55454618, -0.81250165, -1.46035198,  0.17312647,\n",
       "          1.46517922,  0.31319516,  0.40662472,  1.37489662],\n",
       "        [-0.41039755,  0.02967243, -1.09482239,  1.23763279,\n",
       "          0.83408645,  2.66110576, -0.06936554,  0.46866299,\n",
       "          2.33369523, -0.21349985, -0.78425412,  1.82196   ,\n",
       "         -0.89692232, -0.17090676, -1.04263133, -0.1963156 ,\n",
       "          0.26534349,  1.23373345, -1.87351523, -0.27630146,\n",
       "          0.43233864,  0.46549185, -0.07208468,  0.11908329,\n",
       "          1.06732074, -0.1459256 ,  0.24561235, -1.58871413],\n",
       "        [ 0.15509341,  1.10054385, -0.27608289,  2.22303888,\n",
       "          0.5745328 , -0.01344553, -0.82466406,  0.08167493,\n",
       "          0.03705553,  1.09094808, -1.16585773,  0.26103417,\n",
       "          0.06993094,  0.20581647,  0.22144856, -0.56437139,\n",
       "          0.61960193,  0.14944204,  1.50240404, -0.54109064,\n",
       "          1.4384918 , -0.77677234, -0.38801597,  0.23050489,\n",
       "         -0.32008031,  0.6890561 ,  1.50280436, -1.68704658],\n",
       "        [ 0.10977579,  0.69996544,  0.82824442,  0.52573588,\n",
       "         -1.44178944, -0.15804392,  1.11233973, -0.85852785,\n",
       "         -1.03774522,  0.0048641 ,  1.72382873, -0.74899008,\n",
       "         -0.84368086,  0.05276473,  1.33477256,  0.08653074,\n",
       "          1.35332084, -2.13512327,  1.80398363, -1.17264662,\n",
       "         -0.37862865, -0.15427029, -1.77486806,  1.06012212,\n",
       "          0.25290051,  0.27022634,  1.38972044,  0.34846474],\n",
       "        [-1.37568099, -0.86232165,  0.19163731, -0.50601229,\n",
       "          0.51062576, -1.43018295,  0.33795537, -0.66826281,\n",
       "         -0.18511971,  0.71448434, -1.04680006, -1.70522627,\n",
       "         -1.86660351, -0.54718328,  0.46555279, -0.58271009,\n",
       "         -0.96752623,  0.80428893, -0.63854408,  1.02669614,\n",
       "          1.35132289,  2.50136299, -0.26786916,  0.42948981,\n",
       "          0.95008929, -1.10043915, -0.39524668,  2.25334783],\n",
       "        [ 0.66691105,  0.74987107,  1.70766944, -0.77394209,\n",
       "         -0.49728279,  0.71287554,  0.66219112,  0.73481903,\n",
       "          0.91853063, -0.99649291, -1.25935756,  0.76375655,\n",
       "          0.31852341, -1.19008715,  0.55868175,  0.13748731,\n",
       "         -1.46275781, -0.52896727,  1.79562764, -0.66589029,\n",
       "         -1.36293007, -1.56928764,  2.42551502, -0.40122273,\n",
       "         -0.29558425, -1.6321481 ,  1.57382674,  0.28575982],\n",
       "        [-0.84120444, -0.38231075, -0.03344284,  0.02465717,\n",
       "          0.04273891, -0.68460273,  0.09585967, -0.70242552,\n",
       "         -1.01380009, -1.21869697, -1.04276136, -0.6199868 ,\n",
       "          0.44440112, -0.10573607,  0.25897263,  1.09339287,\n",
       "         -0.43602223,  0.96631975,  0.01434916, -0.34184721,\n",
       "          0.27705173, -1.37944336, -0.2926627 , -1.43111952,\n",
       "          0.59730268, -0.44098099,  1.14891148,  0.53928198],\n",
       "        [-0.02072273,  0.99061263,  1.18388497, -0.07187344,\n",
       "          1.45320762, -0.05385857,  2.09820078,  0.27213653,\n",
       "         -0.96268806, -0.35311127, -0.07376386,  0.63544663,\n",
       "         -1.16871459,  0.25419305, -1.35677504,  0.51495237,\n",
       "         -0.08899545,  0.59141416, -0.54848241,  0.41410236,\n",
       "         -0.46966702, -0.96357593,  0.4137805 , -1.25346634,\n",
       "         -1.06419277,  1.07949521,  0.15360247,  0.55837537],\n",
       "        [-0.36210112, -0.43742593, -0.37016689,  0.05744488,\n",
       "         -2.44203133,  0.13426046,  1.69896095,  2.16888947,\n",
       "         -1.46592459,  0.72897455, -0.34791024,  0.71378948,\n",
       "          0.07725296,  1.12298734, -0.3490399 ,  0.26331716,\n",
       "          0.14643192,  0.15244836, -0.31171569, -0.40415206,\n",
       "          0.36352665, -0.72196503, -1.19963854, -1.04133403,\n",
       "          0.41539735,  1.26395438, -1.05226596,  0.44246193],\n",
       "        [-0.86055643, -0.07782142, -0.11654938,  0.03150244,\n",
       "         -2.47746966,  1.9873069 ,  0.86082174,  1.7005663 ,\n",
       "         -1.70238484,  0.78363235, -0.9746305 ,  1.38192612,\n",
       "          1.22285524,  0.12183922,  0.06464902, -0.35498098,\n",
       "         -1.49030833,  0.20264348, -1.17002949,  0.42949738,\n",
       "         -0.91132981,  0.30232467,  0.98481701,  0.25724465,\n",
       "         -0.29597774,  1.52350458, -0.84003127,  0.95156117],\n",
       "        [-0.58372164, -2.42358889, -0.38782515, -1.31352905,\n",
       "          0.40366116,  0.33519539,  0.45812317, -0.99794795,\n",
       "          0.94725761, -0.26411494, -0.26272543, -0.96480657,\n",
       "          1.59051738,  0.21490755,  0.37404668,  0.13118424,\n",
       "         -0.58927527,  1.30818439, -1.50443407,  0.97196624,\n",
       "         -0.10692873, -0.88373369, -0.52183935, -0.84104361,\n",
       "         -0.08948496,  0.27737246,  0.65375866, -1.17837851],\n",
       "        [-0.14656231,  0.50742913, -0.31187008, -1.36092656,\n",
       "         -0.41127289,  0.84641388, -0.47772817,  1.6984515 ,\n",
       "          0.36088747,  0.72792334, -0.64762858, -2.06624112,\n",
       "          0.86269823,  1.14823457, -2.17672348, -0.48551372,\n",
       "         -1.00655606, -0.17561738,  1.51720663,  1.67525373,\n",
       "         -0.48435734, -2.055416  , -2.06333653, -0.29206741,\n",
       "         -0.0059637 ,  1.04912031,  0.0327334 ,  1.58968856],\n",
       "        [-0.3436653 ,  0.70445847, -1.44216078, -0.15798104,\n",
       "          0.91489486,  0.18696068, -1.25940809, -2.00756147,\n",
       "          0.89244985, -0.26814972,  0.48031424, -1.12775968,\n",
       "         -1.30329867,  0.36384921,  0.7514615 ,  0.99764787,\n",
       "          0.20980474, -2.03917616, -0.58054618, -0.6287396 ,\n",
       "         -0.80524011,  0.9705914 ,  1.14695678, -1.49944977,\n",
       "          0.99886454, -1.11458956,  0.18291863, -0.45334052],\n",
       "        [ 0.85001372, -0.34934038,  0.55872219,  0.42068447,\n",
       "          0.1496268 ,  1.14303795,  0.61066047, -0.08604082,\n",
       "         -1.83145483, -0.09584244,  1.6532619 ,  0.54689549,\n",
       "         -0.85169213, -0.64634845,  1.38893742,  0.6097042 ,\n",
       "         -0.24983409, -0.2252048 , -0.0664791 , -0.93541066,\n",
       "         -0.95532798,  0.9867333 , -1.38047553, -0.44855954,\n",
       "          0.26549808,  0.56293927,  3.41404365,  1.4199443 ],\n",
       "        [-0.25682631, -1.23498232, -0.63772203,  0.66815328,\n",
       "         -1.6036945 , -1.00563657,  0.76355233, -0.66845898,\n",
       "         -0.01539232, -1.44860771, -0.26594745, -1.77956334,\n",
       "          0.52031753,  1.19987903,  0.53203028,  0.31674165,\n",
       "         -0.09507903, -0.10344878,  0.84842047,  0.80893204,\n",
       "          0.21876587, -0.38753861, -0.02596707, -1.06875782,\n",
       "         -0.04400581, -0.15510166, -0.78829146, -0.18105125],\n",
       "        [-0.123868  , -0.71062681,  0.7486332 ,  0.85103985,\n",
       "         -0.5459829 , -1.75914319,  0.32752852,  0.42443652,\n",
       "          0.28772806, -0.77154884,  0.06452923, -1.49968822,\n",
       "         -1.03875208, -0.57345653,  0.65206936,  0.0099565 ,\n",
       "          0.10850114,  0.60222222,  0.96280488, -0.94478046,\n",
       "          1.63683634, -0.78308171, -1.68110884,  2.47041947,\n",
       "          0.22074262,  0.98801851, -2.04100847,  0.69792786],\n",
       "        [ 1.94260613, -1.12157552, -0.22928874, -0.13071268,\n",
       "          1.23962572, -1.39638465,  2.22568381,  0.58524262,\n",
       "         -0.78672078, -0.96080482,  1.53890675,  1.74568433,\n",
       "         -0.46506393, -0.93014284,  0.01091984, -0.53351758,\n",
       "         -2.41071207,  0.346541  , -0.56961404,  2.17734988,\n",
       "         -0.05837683,  1.67984657, -2.57615237, -0.04854452,\n",
       "         -1.8160905 ,  0.47359985, -1.27734809, -0.52310047],\n",
       "        [-1.75812992,  0.56673725, -0.88044072, -1.0547093 ,\n",
       "         -0.37676283, -0.33136407, -0.31855962, -1.43955636,\n",
       "          0.59914189,  1.9519789 , -0.47194641,  1.65962868,\n",
       "          0.15092121,  0.57028789, -0.3438776 , -1.05852157,\n",
       "          1.56590067,  0.21366438,  0.14517232, -1.39072812,\n",
       "         -2.10775455,  1.56263439, -0.20082816,  1.66779571,\n",
       "          0.97978045,  1.73558275,  0.75441747, -0.97989106],\n",
       "        [-0.88916739, -0.67633151,  0.4679319 , -0.9262409 ,\n",
       "         -0.88603351,  1.53200874,  0.17322023, -0.07754616,\n",
       "          0.39437716, -0.47976648,  0.5191611 , -1.32438477,\n",
       "          1.19616746,  0.3282582 ,  0.07607294, -0.886072  ,\n",
       "         -1.22593493,  0.2367691 , -0.42546671, -0.80099426,\n",
       "          0.89211824, -0.96216034,  1.08906421, -1.05899567,\n",
       "         -1.30989017, -1.0825634 , -0.63330966,  0.50158579],\n",
       "        [ 0.87799993,  0.91787071,  2.20842915, -0.28002329,\n",
       "          0.85277968, -0.81429917,  0.19572085,  1.4745693 ,\n",
       "          1.16054847, -0.0749301 , -0.74227607, -0.20134518,\n",
       "          0.06890241, -0.49661109,  1.25313668,  1.81776259,\n",
       "         -0.1905225 ,  0.00996054, -0.69934818, -1.47714406,\n",
       "          1.17319349, -0.83720497, -0.01070222,  0.36136045,\n",
       "         -0.21173032,  0.16088842,  0.39722263, -1.12890837],\n",
       "        [ 0.98313607,  0.68881552,  1.40348685, -2.2210325 ,\n",
       "          1.10514849,  0.75092148,  0.14580813, -0.51089511,\n",
       "          1.32676192,  0.05541859, -0.65272145, -1.87511731,\n",
       "          0.01513211, -1.81198614,  0.53010834,  0.11293764,\n",
       "         -0.75801315,  0.30914372,  0.31184869, -1.25067104,\n",
       "          2.04874249,  1.8314351 , -0.21000235,  0.76020373,\n",
       "          0.01229052,  1.10830939, -1.35776556, -1.24233273],\n",
       "        [-1.62048054,  1.29215416,  0.28367024, -0.50187259,\n",
       "         -0.99051823,  0.76487866, -0.02053857, -1.50379163,\n",
       "         -0.153585  , -0.42571607,  1.46335745, -1.84802821,\n",
       "          1.11626205,  1.65281255,  0.15780192,  1.10056684,\n",
       "          1.58666706,  1.33462117,  0.559043  , -0.17544611,\n",
       "         -0.36495496, -0.19276449,  0.31823971,  0.91695572,\n",
       "          0.51206185, -1.61785813, -1.51499475, -0.63634337],\n",
       "        [-0.53324731, -0.61168142, -0.81736368, -0.16211415,\n",
       "          1.5708901 ,  0.58778882,  1.54568143, -0.12473696,\n",
       "         -1.05354592,  1.61312042,  1.32220574,  1.95570044,\n",
       "         -0.71594126, -0.74806867,  0.0729928 , -1.07183624,\n",
       "          0.23944586, -0.3432826 , -1.3610544 ,  0.74298461,\n",
       "          0.31951735,  0.36060082, -0.20190778,  0.44057566,\n",
       "          1.51046686, -0.56630115, -0.62555319,  1.17633541]]])"
      ]
     },
     "execution_count": 27,
     "metadata": {},
     "output_type": "execute_result"
    }
   ],
   "source": [
    "np.random.randn(1,28,28)"
   ]
  },
  {
   "cell_type": "code",
   "execution_count": 28,
   "id": "304a1410-a73e-43cd-b70f-4d77aebcff1a",
   "metadata": {},
   "outputs": [],
   "source": [
    "imgs_2d_batch = np.random.randn(3, 28, 28)\n",
    "param_2d = np.random.randn(3, 3)"
   ]
  },
  {
   "cell_type": "code",
   "execution_count": 29,
   "id": "64a98d83-558d-4a2a-b072-8adc4c5587a7",
   "metadata": {},
   "outputs": [],
   "source": [
    "def _pad_2d_obj(inp:np.ndarray,\n",
    "               num:int)->np.ndarray:\n",
    "    ''' this paddes the 2d inputs that came from 3d'''\n",
    "    input_pad=_pad_1d_batch(inp,num)\n",
    "    zeros=np.zeros((num,inp.shape[0]+num*2))\n",
    "    return np.concatenate([zeros,input_pad,zeros])"
   ]
  },
  {
   "cell_type": "code",
   "execution_count": 30,
   "id": "129a6783-15ac-4c8b-8ceb-f3196ee62a74",
   "metadata": {},
   "outputs": [],
   "source": [
    "def _pad_2d(inp:np.ndarray,\n",
    "           num:int)->np.ndarray:\n",
    "    ''' the input is 3d'''\n",
    "    outs=[_pad_2d_obj(obj,num) for obj in inp]\n",
    "    return np.stack(outs)"
   ]
  },
  {
   "cell_type": "code",
   "execution_count": 31,
   "id": "eba99273-944d-4a56-95bd-cef71ce927ef",
   "metadata": {
    "scrolled": true
   },
   "outputs": [
    {
     "data": {
      "text/plain": [
       "array([[[ 0.        ,  0.        ,  0.        , ...,  0.        ,\n",
       "          0.        ,  0.        ],\n",
       "        [ 0.        , -0.35019564, -0.71613171, ..., -1.02727293,\n",
       "         -0.9303927 ,  0.        ],\n",
       "        [ 0.        , -0.86897765, -0.60739455, ...,  1.40532534,\n",
       "         -1.63100755,  0.        ],\n",
       "        ...,\n",
       "        [ 0.        ,  1.62972478, -2.20169887, ..., -0.89887595,\n",
       "         -0.09243871,  0.        ],\n",
       "        [ 0.        ,  1.01666333, -0.24836335, ...,  1.02709533,\n",
       "          0.84572472,  0.        ],\n",
       "        [ 0.        ,  0.        ,  0.        , ...,  0.        ,\n",
       "          0.        ,  0.        ]],\n",
       "\n",
       "       [[ 0.        ,  0.        ,  0.        , ...,  0.        ,\n",
       "          0.        ,  0.        ],\n",
       "        [ 0.        , -1.99411222, -0.8872034 , ...,  0.97000352,\n",
       "         -0.25159189,  0.        ],\n",
       "        [ 0.        ,  1.23420701, -0.52190442, ..., -0.60902808,\n",
       "         -0.08239903,  0.        ],\n",
       "        ...,\n",
       "        [ 0.        , -1.01565345, -0.15391019, ..., -0.77697981,\n",
       "         -2.08905742,  0.        ],\n",
       "        [ 0.        ,  0.45635475, -0.0913721 , ..., -0.62737346,\n",
       "         -0.40431806,  0.        ],\n",
       "        [ 0.        ,  0.        ,  0.        , ...,  0.        ,\n",
       "          0.        ,  0.        ]],\n",
       "\n",
       "       [[ 0.        ,  0.        ,  0.        , ...,  0.        ,\n",
       "          0.        ,  0.        ],\n",
       "        [ 0.        , -0.2486499 ,  0.52934889, ...,  0.94653211,\n",
       "          1.65655873,  0.        ],\n",
       "        [ 0.        ,  0.28874119,  0.20646577, ..., -0.64509291,\n",
       "         -1.33930907,  0.        ],\n",
       "        ...,\n",
       "        [ 0.        , -0.30495412,  0.13074187, ..., -0.9381551 ,\n",
       "         -2.0569663 ,  0.        ],\n",
       "        [ 0.        , -1.20103101, -0.47617147, ...,  0.88699495,\n",
       "          1.15144009,  0.        ],\n",
       "        [ 0.        ,  0.        ,  0.        , ...,  0.        ,\n",
       "          0.        ,  0.        ]]])"
      ]
     },
     "execution_count": 31,
     "metadata": {},
     "output_type": "execute_result"
    }
   ],
   "source": [
    "_pad_2d(imgs_2d_batch,1)"
   ]
  },
  {
   "cell_type": "markdown",
   "id": "164af522-6ff9-488d-bb9e-5b3289d844a3",
   "metadata": {},
   "source": [
    "# compute output"
   ]
  },
  {
   "cell_type": "code",
   "execution_count": 32,
   "id": "43f02082-639b-4cb4-a6aa-a4602a66ae51",
   "metadata": {},
   "outputs": [],
   "source": [
    "def _compute_output_obs_2d(obj:np.ndarray,\n",
    "                           param:np.ndarray)->np.ndarray:\n",
    "    ''' this computes the convolution of the input and the filter'''\n",
    "    \n",
    "    pad_len=param.shape[0]//2\n",
    "    paded_input=_pad_2d_obj(obj,pad_len)\n",
    "    out=np.zeros_like(obj)\n",
    "    for o_w in range(out.shape[0]):\n",
    "        for o_h in range(out.shape[1]):\n",
    "            for p_w in range(param.shape[0]):\n",
    "                for p_h in range(param.shape[1]):\n",
    "                    out[o_w][o_h]+=param[p_w][p_h]*paded_input[o_w+p_w][o_h+p_h]\n",
    "    return out"
   ]
  },
  {
   "cell_type": "code",
   "execution_count": 33,
   "id": "1e5b8b3c-f5c7-4875-af59-db1ddcdc6a16",
   "metadata": {},
   "outputs": [],
   "source": [
    "def _compute_output_2d(inp:np.ndarray,\n",
    "                       param:np.ndarray)->np.ndarray:\n",
    "    ''' takes batch input'''\n",
    "    same_dim(inp,3)\n",
    "    outs=[_compute_output_obs_2d(obj,param) for obj in inp]\n",
    "    return np.stack(outs)"
   ]
  },
  {
   "cell_type": "code",
   "execution_count": 34,
   "id": "2401b0e4-cb0c-4fba-9534-7d90ba45a68d",
   "metadata": {},
   "outputs": [
    {
     "data": {
      "text/plain": [
       "(3, 28, 28)"
      ]
     },
     "execution_count": 34,
     "metadata": {},
     "output_type": "execute_result"
    }
   ],
   "source": [
    "_compute_output_2d(imgs_2d_batch,param_2d).shape"
   ]
  },
  {
   "cell_type": "markdown",
   "id": "1eeed8bd-32fb-49f4-99fa-38ec2a712159",
   "metadata": {},
   "source": [
    "# gradient"
   ]
  },
  {
   "cell_type": "code",
   "execution_count": 35,
   "id": "b90152b7-d40d-4f71-8407-bffe8fd9ba55",
   "metadata": {},
   "outputs": [],
   "source": [
    "def _comput_grads_obs_2d(input_obs:np.ndarray,\n",
    "                         output_grad:np.ndarray,\n",
    "                         param:np.ndarray)->np.ndarray:\n",
    "    \n",
    "    param_size=param.shape[0]\n",
    "    output_pad=_pad_2d_obj(output_grad,param_size//2)\n",
    "    input_grad=np.zeros_like(input_obs)\n",
    "\n",
    "    for i_w in range(input_obs.shape[0]):\n",
    "        for i_h in range(input_obs.shape[1]):\n",
    "            for p_w in range(param_size):\n",
    "                for p_h in range(param_size):\n",
    "                    input_grad[i_w][i_h]+=output_pad[i_w+param_size-p_w-1][i_h+param_size-p_h-1]*param[p_w][p_h]\n",
    "    return input_grad\n",
    "\n",
    "\n",
    "def _comput_grads_2d(inp:np.ndarray,\n",
    "                    output_grad:np.ndarray,\n",
    "                    param:np.ndarray\n",
    "                   )->np.ndarray:\n",
    "    grads=[_comput_grads_obs_2d(inp[i],output_grad[i],param) for i in range(output_grad.shape[0])]\n",
    "    return np.stack(grads)\n",
    "\n",
    "\n",
    "def param_grad(inp:np.ndarray,\n",
    "              output_grad:np.ndarray,\n",
    "              param:np.ndarray)->np.ndarray:\n",
    "    \n",
    "    ''' calculates the parameter gradient'''\n",
    "    \n",
    "    param_size=inp.shape[0]\n",
    "    inp_pad=_pad_2d_obj(inp,param_size//2)\n",
    "    param_grad=np.zeros_like(param)\n",
    "    img_size=output_grad.shape[1:]\n",
    "    \n",
    "    for i in range(inp.shape[0]):\n",
    "        for i_w in range(img_size[0]):\n",
    "            for i_h in range(img_size[1]):\n",
    "                for p_w in range(param_size):\n",
    "                    for p_h in range(param_size):\n",
    "                        param_grad[p_w][p_h]+=inp_pad[i][i_w+p_w][i_h+p_h]*output_grad[i][i_w][i_h]\n",
    "    return param_grad\n",
    "\n",
    "\n",
    "\n",
    "def _param_grad_2d(inp: ndarray,\n",
    "                   output_grad: ndarray, \n",
    "                   param: ndarray) -> ndarray:\n",
    "\n",
    "    param_size = param.shape[0]\n",
    "    inp_pad = _pad_2d(inp, param_size // 2)\n",
    "\n",
    "    param_grad = np.zeros_like(param)\n",
    "    img_shape = output_grad.shape[1:]\n",
    "    \n",
    "    for i in range(inp.shape[0]):\n",
    "        for o_w in range(img_shape[0]):\n",
    "            for o_h in range(img_shape[1]):\n",
    "                for p_w in range(param_size):\n",
    "                    for p_h in range(param_size):\n",
    "                        param_grad[p_w][p_h] += inp_pad[i][o_w+p_w][o_h+p_h] \\\n",
    "                        * output_grad[i][o_w][o_h]\n",
    "    return param_grad"
   ]
  },
  {
   "cell_type": "code",
   "execution_count": 36,
   "id": "a1303881-4f5f-4cc8-ab9a-91e847b32826",
   "metadata": {},
   "outputs": [
    {
     "data": {
      "text/plain": [
       "(3, 28, 28)"
      ]
     },
     "execution_count": 36,
     "metadata": {},
     "output_type": "execute_result"
    }
   ],
   "source": [
    "imgs_2d_batch.shape"
   ]
  },
  {
   "cell_type": "code",
   "execution_count": 37,
   "id": "eed4699b-fe05-477b-9bef-c09308eda47c",
   "metadata": {},
   "outputs": [],
   "source": [
    "img_grads=_comput_grads_2d(\n",
    "                                imgs_2d_batch,\n",
    "                                np.ones_like(imgs_2d_batch),\n",
    "                                param_2d\n",
    ")\n",
    "img_param_grad=_param_grad_2d(imgs_2d_batch,\n",
    "                             np.ones_like(imgs_2d_batch),\n",
    "                             param_2d)"
   ]
  },
  {
   "cell_type": "code",
   "execution_count": 38,
   "id": "b9f70b8a-88ee-4047-86e4-9e5c4a5208e0",
   "metadata": {},
   "outputs": [
    {
     "data": {
      "text/plain": [
       "((3, 28, 28), (3, 3))"
      ]
     },
     "execution_count": 38,
     "metadata": {},
     "output_type": "execute_result"
    }
   ],
   "source": [
    "img_grads.shape,img_param_grad.shape"
   ]
  },
  {
   "cell_type": "markdown",
   "id": "b187ab15-1c6a-4f62-86a7-85bcfe4feeb3",
   "metadata": {},
   "source": [
    "# with channels + 2D "
   ]
  },
  {
   "cell_type": "code",
   "execution_count": 40,
   "id": "637b8328-965f-4022-bd24-c5f6a8c9e190",
   "metadata": {},
   "outputs": [],
   "source": [
    "def _pad_2d_channels(inp:np.ndarray,\n",
    "                    num:int)->np.ndarray:\n",
    "    '''input has dimension [num_channels,image_width,image_height]'''\n",
    "    return np.stack([_pad_2d_obj(channel,num) for channel in inp])\n",
    "    \n",
    "def _pad_conv_input(inp:np.ndarray,\n",
    "                   num:np.ndarray)->np.ndarray:\n",
    "    '''the input to these function is [num_batches,num_channel,image_width,image_height'''\n",
    "    return np.stack([_pad_2d_channels(objs,num) for objs in inp])"
   ]
  },
  {
   "cell_type": "markdown",
   "id": "49c4172b-adbe-4ab3-8ac6-7487fb62a851",
   "metadata": {},
   "source": [
    "# forward "
   ]
  },
  {
   "cell_type": "code",
   "execution_count": 105,
   "id": "3063746f-d25a-4741-85de-db4badecb66c",
   "metadata": {},
   "outputs": [],
   "source": [
    "def _compute_output_obs(obs:np.ndarray,\n",
    "                       param:np.ndarray)->np.ndarray:\n",
    "    \n",
    "    '''obs:the input/obs shape is num_channe,img_width,img_height\n",
    "    \n",
    "     param: input_channel,output_channel,filter_width,filter_height\n",
    "     \n",
    "     '''\n",
    "    \n",
    "    same_dim(obs,3)\n",
    "    same_dim(param,4)\n",
    "    \n",
    "    param_size=param.shape[2]\n",
    "    pad_num=param_size//2\n",
    "    \n",
    "    padded_obs=_pad_2d_channels(obs,pad_num)\n",
    "    img_size=obs.shape[1]\n",
    "\n",
    "    input_channel=param.shape[0]\n",
    "    output_channel=param.shape[1]\n",
    "    \n",
    "    out=np.zeros((output_channel,)+obs.shape[1:])  #out output channel + width and height of th image\n",
    "    \n",
    "    for c_i in range(input_channel):\n",
    "        for c_o in range(output_channel):\n",
    "            for i_w in range(img_size):   #here we are setting the value to img_size we incinuating that the image is square....i think\n",
    "                for i_h in range(img_size):#here we are setting the value to img_size we incinuating that the image is square....i think\n",
    "                    for p_w in range(param_size):    \n",
    "                        for p_h in range(param_size):\n",
    "                            out[c_o][i_w][i_h] += param[c_i][c_o][p_w][p_h] * padded_obs[c_i][i_w+p_w][i_h+p_h]\n",
    "    return out\n",
    "\n",
    "\n",
    "def _output(inp:np.ndarray,\n",
    "            param:np.ndarray)->np.ndarray:\n",
    "    \n",
    "    ''' here the input has the shape \n",
    "        inp:[batch size,channels,img_width,img_height]\n",
    "        param:[input_channels,output_channels,filter width,filter height]\n",
    "        '''\n",
    "    out=[_compute_output_obs(obs,param) for obs in inp]\n",
    "    return np.stack(out)"
   ]
  },
  {
   "cell_type": "markdown",
   "id": "20a1f2e3-6010-4819-9819-449ee1f7d169",
   "metadata": {},
   "source": [
    "# backward "
   ]
  },
  {
   "cell_type": "code",
   "execution_count": 122,
   "id": "25cbceef-3af5-4a1f-875f-149a2d3abb8b",
   "metadata": {},
   "outputs": [],
   "source": [
    "def _compute_gradient_obs_channel(inp_obs:np.ndarray,\n",
    "                                  output_grad_obs:np.ndarray,\n",
    "                                  param:np.ndarray,\n",
    "                                 )->np.ndarray:\n",
    "    ''' the inp size is:\n",
    "    \n",
    "    inp:[input_channel,image_width,image_height]\n",
    "    \n",
    "    output_grad:[output_channel,image_width,image_height]\n",
    "    \n",
    "    param:[input channel,output channel,im_width,img_height]\n",
    "    '''\n",
    "    param_size=param.shape[2]\n",
    "    paded_output_grads=_pad_2d_channels(output_grad_obs,param_size//2)\n",
    "    input_grad=np.zeros_like(inp_obs)\n",
    "    \n",
    "    img_size=inp_obs.shape[1]\n",
    "    in_chan=inp_obs.shape[0]\n",
    "    out_chan=param.shape[1]\n",
    "    \n",
    "    for c_in in range(in_chan):\n",
    "        for c_out in range(out_chan):\n",
    "            for i_w in range(inp_obs.shape[1]):\n",
    "                for i_h in range(inp_obs.shape[2]):\n",
    "                    for p_w in range(param_size):  # we can also type the input width and input height here\n",
    "                        for p_h in range(param_size):#we can also type the input width and input height here\n",
    "                            input_grad[c_in][i_w][i_h]+=paded_output_grads[c_out][i_w+param_size-p_w-1][i_h+param_size-p_h-1]*param[c_in][c_out][p_w][p_h]\n",
    "    return input_grad\n",
    "\n",
    "def input_grad(inp:np.ndarray,\n",
    "               output_grad:np.ndarray,\n",
    "               param:np.ndarray)->np.ndarray:\n",
    "    \n",
    "    grads=[_compute_gradient_obs_channel(inp[i],output_grad[i],param) for i in range(output_grad.shape[0])]\n",
    "    return np.stack(grads)"
   ]
  },
  {
   "cell_type": "code",
   "execution_count": 133,
   "id": "cc8c9a7e-ad1e-4f1e-8421-0077ba18e4ad",
   "metadata": {},
   "outputs": [],
   "source": [
    "def param_grad(inp:np.ndarray,\n",
    "              output_grad:np.ndarray,\n",
    "              param:np.ndarray)->np.ndarray:\n",
    "    \n",
    "    ''' the inp size is:\n",
    "    inp:[batch_size,input_channel,image_width,image_height]\n",
    "    \n",
    "    output_grad:[batch_size,output_channel,image_width,image_height]\n",
    "    param:[input channel,output channel,im_width,img_height]'''\n",
    "    \n",
    "    param_grad=np.zeros_like(param)\n",
    "    param_size=param.shape[2]\n",
    "\n",
    "    in_channel=inp.shape[1]\n",
    "    out_channel=output_grad.shape[1]\n",
    "    paded_inp=_pad_conv_input(inp,param_size//2)\n",
    "    img_shape=output_grad.shape[2:]  #this could be inp[1:]\n",
    "\n",
    "    for i in range(inp.shape[0]):\n",
    "        for c_in in range(in_channel):\n",
    "            for c_out in range(out_channel):\n",
    "                for o_w in range(img_shape[0]):\n",
    "                    for o_h in range(img_shape[1]):\n",
    "                        for p_w in range(param_size):\n",
    "                            for p_h in range(param_size):\n",
    "                                param_grad[c_in][c_out][p_w][p_h]+=paded_inp[i][c_in][o_w+p_w][o_h+p_h]*output_grad[i][c_out][o_w][o_h]\n",
    "                                \n",
    "    return param_grad"
   ]
  },
  {
   "cell_type": "code",
   "execution_count": 84,
   "id": "03192b62-06f6-48b2-b5d9-e0ac540e56c7",
   "metadata": {},
   "outputs": [],
   "source": [
    "# this is for the forward\n",
    "def _compute_output_sum(imgs:np.ndarray,param:np.ndarray):\n",
    "    return _output(imgs,param).sum()"
   ]
  },
  {
   "cell_type": "markdown",
   "id": "c56889de-2c61-4fd6-86fb-8f91ea133f6f",
   "metadata": {},
   "source": [
    "# testing gradient"
   ]
  },
  {
   "cell_type": "code",
   "execution_count": 85,
   "id": "a27c48b7-eb80-4aad-a298-6e8192457d26",
   "metadata": {},
   "outputs": [],
   "source": [
    "cifar_imgs = np.random.randn(10, 3, 32, 32)\n",
    "cifar_param = np.random.randn(3, 16, 5, 5)"
   ]
  },
  {
   "cell_type": "markdown",
   "id": "97c096d4-105b-4f8c-911e-8b462865d84b",
   "metadata": {},
   "source": [
    "## input gradient"
   ]
  },
  {
   "cell_type": "code",
   "execution_count": 89,
   "id": "355de7b3-051a-4ed1-a99a-66758836953a",
   "metadata": {},
   "outputs": [],
   "source": [
    "cifar_imgs_2=cifar_imgs.copy()\n",
    "cifar_imgs_2[3][1][2][19]+=1"
   ]
  },
  {
   "cell_type": "code",
   "execution_count": 106,
   "id": "422999ef-7917-4549-ad5b-289b39404f9e",
   "metadata": {},
   "outputs": [
    {
     "data": {
      "text/plain": [
       "14.349635131151445"
      ]
     },
     "execution_count": 106,
     "metadata": {},
     "output_type": "execute_result"
    }
   ],
   "source": [
    "_compute_output_sum(cifar_imgs_2,cifar_param) - _compute_output_sum(cifar_imgs,cifar_param)"
   ]
  },
  {
   "cell_type": "code",
   "execution_count": 123,
   "id": "e976030c-8035-41d0-b014-1fa43fad549f",
   "metadata": {},
   "outputs": [
    {
     "data": {
      "text/plain": [
       "14.349635131150292"
      ]
     },
     "execution_count": 123,
     "metadata": {},
     "output_type": "execute_result"
    }
   ],
   "source": [
    "input_grad(cifar_imgs,\n",
    "            np.ones((10, 16, 32, 32)),\n",
    "            cifar_param)[3][1][2][19]"
   ]
  },
  {
   "cell_type": "markdown",
   "id": "609b3aa4-140d-4014-a282-60cb7425ecdc",
   "metadata": {},
   "source": [
    "# param gradient"
   ]
  },
  {
   "cell_type": "code",
   "execution_count": 124,
   "id": "135973ed-4478-40f2-9335-8929095b76c5",
   "metadata": {},
   "outputs": [],
   "source": [
    "cifar_param_2 = cifar_param.copy()\n",
    "cifar_param_2[0][8][0][2] += 1"
   ]
  },
  {
   "cell_type": "code",
   "execution_count": 125,
   "id": "7b5f4884-be55-49ca-b8f7-a911ce975ef7",
   "metadata": {},
   "outputs": [
    {
     "data": {
      "text/plain": [
       "14.349635131151445"
      ]
     },
     "execution_count": 125,
     "metadata": {},
     "output_type": "execute_result"
    }
   ],
   "source": [
    "_compute_output_sum(cifar_imgs_2,cifar_param) - _compute_output_sum(cifar_imgs,cifar_param)"
   ]
  },
  {
   "cell_type": "code",
   "execution_count": 134,
   "id": "2f725ded-22cc-4e7f-8384-f397e22f459a",
   "metadata": {},
   "outputs": [
    {
     "data": {
      "text/plain": [
       "-154.5101645255271"
      ]
     },
     "execution_count": 134,
     "metadata": {},
     "output_type": "execute_result"
    }
   ],
   "source": [
    "param_grad(cifar_imgs,\n",
    "            np.ones((10, 16, 32, 32)),\n",
    "            cifar_param)[0][8][0][2]"
   ]
  }
 ],
 "metadata": {
  "kernelspec": {
   "display_name": "Python 3 (ipykernel)",
   "language": "python",
   "name": "python3"
  },
  "language_info": {
   "codemirror_mode": {
    "name": "ipython",
    "version": 3
   },
   "file_extension": ".py",
   "mimetype": "text/x-python",
   "name": "python",
   "nbconvert_exporter": "python",
   "pygments_lexer": "ipython3",
   "version": "3.8.18"
  }
 },
 "nbformat": 4,
 "nbformat_minor": 5
}
