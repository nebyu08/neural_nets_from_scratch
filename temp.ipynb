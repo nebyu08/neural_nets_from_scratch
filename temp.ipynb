{
 "cells": [
  {
   "cell_type": "code",
   "execution_count": 6,
   "id": "54576ca9-bfe9-48d5-aabe-cb4405ac0088",
   "metadata": {},
   "outputs": [],
   "source": [
    "import numpy as np\n",
    "from numpy import ndarray"
   ]
  },
  {
   "cell_type": "code",
   "execution_count": 12,
   "id": "86a76eab-c14b-4937-b2e4-b75132dcbd1d",
   "metadata": {},
   "outputs": [],
   "source": [
    "# som helper functions\n",
    "def same_dim(x,dim):\n",
    "    assert len(x.shape)==dim, \\\n",
    "    ''' they are suppose to have the same\n",
    "    dimension but first one is {0} and the second\n",
    "    one is {1} '''.format(len(x.shape),dim)\n",
    "\n",
    "def assert_same_shape(x,x_grad):\n",
    "    assert x.shape == x_grad.shape ,\\\n",
    "    ''' they are suppose to have the same shape \n",
    "    but the first one is {0} and the second one \n",
    "    is {1}'''.format(tuple(x.shape),tuple(x_grad.shape))"
   ]
  },
  {
   "cell_type": "code",
   "execution_count": 2,
   "id": "7e6f55af-c502-4b87-96d0-97f68c7785f5",
   "metadata": {},
   "outputs": [],
   "source": [
    "def _1d_pad(arr:np.ndarray,num:int)->np.ndarray:\n",
    "    temp=np.array([0])\n",
    "    temp=np.repeat(temp,num)\n",
    "    return np.concatenate([temp,arr,temp])"
   ]
  },
  {
   "cell_type": "code",
   "execution_count": 3,
   "id": "4b78170b-76dc-4514-82c3-d4182dbca5a7",
   "metadata": {},
   "outputs": [],
   "source": [
    "# calculating the input gradient\n",
    "\n",
    "def param_grad(inp:np.ndarray,\n",
    "               param:np.ndarray,\n",
    "              output_grad:np.ndarray=None)->np.ndarray:\n",
    "    #lets pad our input\n",
    "    param_len=param.shape[0]\n",
    "    embed_num=param_len//2\n",
    "    input_pad=_1d_pad(inp,embed_num)\n",
    "    \n",
    "    if output_grad is None:\n",
    "        output_grad=np.ones_like(inp)\n",
    "    else:\n",
    "        assert_same_shape(inp,output_grad)\n",
    "        \n",
    "    param_grad=np.zeros_like(param)\n",
    "    \n",
    "    for i in range(inp.shape[0]):\n",
    "        for j in range(param.shape[0]):\n",
    "            param_grad[i]+=input_pad[i+j]*output_grad[i]\n",
    "\n",
    "    \n",
    "    assert_same_shape(param,param_grad)\n",
    "    return param_grad\n"
   ]
  },
  {
   "cell_type": "code",
   "execution_count": 4,
   "id": "a73b357b-2a67-4f58-9e49-63efb1908480",
   "metadata": {},
   "outputs": [],
   "source": [
    "def _input_grad_1d(inp:np.ndarray,\n",
    "                  param:np.ndarray,\n",
    "                  output_grad:np.ndarray=None)->np.ndarray:\n",
    "    \n",
    "    \n",
    "    param_len=param.shape[0]\n",
    "    emb_num=param_len//2\n",
    "    \n",
    "    if output_grad is None:\n",
    "        output_grad=np.ones_like(inp)\n",
    "    else:\n",
    "        assert_same_shape(output_grad,inp)\n",
    "\n",
    "    input_grad=np.zeros_like(output_grad)\n",
    "    output_pad=_1d_pad(output_grad,emb_num)\n",
    "\n",
    "    for i in range(inp.shape[0]):\n",
    "        for j in range(param.shape[0]):\n",
    "            input_grad += output_pad[i+param_len-j-1]*param[j]\n",
    "            \n",
    "    assert_same_shape(input_grad,output_grad)\n",
    "    return input_grad\n"
   ]
  },
  {
   "cell_type": "code",
   "execution_count": 22,
   "id": "7765093d-1d6a-40b5-a375-aa697f589bea",
   "metadata": {},
   "outputs": [],
   "source": [
    "def _param_grad_1d(inp: ndarray, \n",
    "                   param: ndarray, \n",
    "                   output_grad: ndarray = None) -> ndarray:\n",
    "    \n",
    "    param_len = param.shape[0]\n",
    "    param_mid = param_len // 2\n",
    "    input_pad = _1d_pad(inp, param_mid)\n",
    "    \n",
    "    if output_grad is None:\n",
    "        output_grad = np.ones_like(inp)\n",
    "    else:\n",
    "        assert_same_shape(inp, output_grad)\n",
    "\n",
    "    # Zero padded 1 dimensional convolution\n",
    "    param_grad = np.zeros_like(param)\n",
    "    input_grad = np.zeros_like(inp)\n",
    "\n",
    "    for o in range(inp.shape[0]):\n",
    "        for p in range(param.shape[0]):\n",
    "            param_grad[p] += input_pad[o+p] * output_grad[o]\n",
    "        \n",
    "    assert_same_shape(param_grad, param)\n",
    "    \n",
    "    return param_grad"
   ]
  },
  {
   "cell_type": "code",
   "execution_count": 23,
   "id": "c8dac75d-fd26-4fe2-b7b3-471459ca6417",
   "metadata": {},
   "outputs": [],
   "source": [
    "def _input_grad_1ds(inp: ndarray, \n",
    "                   param: ndarray, \n",
    "                   output_grad: ndarray = None) -> ndarray:\n",
    "    \n",
    "    param_len = param.shape[0]\n",
    "    param_mid = param_len // 2\n",
    "    inp_pad = _1d_pad(inp, param_mid)\n",
    "    \n",
    "    if output_grad is None:\n",
    "        output_grad = np.ones_like(inp)\n",
    "    else:\n",
    "        assert_same_shape(inp, output_grad)\n",
    "    \n",
    "    output_pad = _1d_pad(output_grad, param_mid)\n",
    "    \n",
    "    # Zero padded 1 dimensional convolution\n",
    "    param_grad = np.zeros_like(param)\n",
    "    input_grad = np.zeros_like(inp)\n",
    "\n",
    "    for o in range(inp.shape[0]):\n",
    "        for f in range(param.shape[0]):\n",
    "            input_grad[o] += output_pad[o+param_len-f-1] * param[f]\n",
    "        \n",
    "    assert_same_shape(param_grad, param)\n",
    "    \n",
    "    return input_grad"
   ]
  },
  {
   "cell_type": "code",
   "execution_count": 24,
   "id": "71b36656-0d84-4384-8419-c4dce7d9716f",
   "metadata": {},
   "outputs": [],
   "source": [
    "input_1d_2 = np.array([1,2,3,4,6])\n",
    "param_1d = np.array([1,1,1])\n",
    "\n",
    "input_1d = np.array([1,2,3,4,5])\n",
    "param_1d_2 = np.array([2,1,1])\n"
   ]
  },
  {
   "cell_type": "code",
   "execution_count": 21,
   "id": "fdd20b88-7ce2-4839-8f1f-9bc50f7ba54f",
   "metadata": {},
   "outputs": [
    {
     "data": {
      "text/plain": [
       "array([2, 3, 3, 3, 2])"
      ]
     },
     "execution_count": 21,
     "metadata": {},
     "output_type": "execute_result"
    }
   ],
   "source": [
    "_input_grad_1ds(input_1d, param_1d)"
   ]
  },
  {
   "cell_type": "code",
   "execution_count": 26,
   "id": "bc2724ce-47ab-4890-adbf-1c6c237febe2",
   "metadata": {},
   "outputs": [
    {
     "data": {
      "text/plain": [
       "array([10, 15, 14])"
      ]
     },
     "execution_count": 26,
     "metadata": {},
     "output_type": "execute_result"
    }
   ],
   "source": [
    "_param_grad_1d(input_1d, param_1d)"
   ]
  },
  {
   "cell_type": "code",
   "execution_count": null,
   "id": "afee94be-be2c-48a6-b6a2-ba78340095e2",
   "metadata": {},
   "outputs": [],
   "source": []
  }
 ],
 "metadata": {
  "kernelspec": {
   "display_name": "Python 3 (ipykernel)",
   "language": "python",
   "name": "python3"
  },
  "language_info": {
   "codemirror_mode": {
    "name": "ipython",
    "version": 3
   },
   "file_extension": ".py",
   "mimetype": "text/x-python",
   "name": "python",
   "nbconvert_exporter": "python",
   "pygments_lexer": "ipython3",
   "version": "3.8.18"
  }
 },
 "nbformat": 4,
 "nbformat_minor": 5
}
