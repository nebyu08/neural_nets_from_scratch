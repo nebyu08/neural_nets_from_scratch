{
 "cells": [
  {
   "cell_type": "code",
   "execution_count": 1,
   "id": "6016a8c9-6c67-4c47-be6d-86b91ee78d7d",
   "metadata": {},
   "outputs": [],
   "source": [
    "%load_ext autoreload"
   ]
  },
  {
   "cell_type": "code",
   "execution_count": 2,
   "id": "a4e0b563-c34f-48b3-9ebc-9b77985c072f",
   "metadata": {},
   "outputs": [],
   "source": [
    "%autoreload 2"
   ]
  },
  {
   "cell_type": "code",
   "execution_count": 3,
   "id": "4c09307f-a699-431f-a61e-39d5a3f2e3dc",
   "metadata": {},
   "outputs": [],
   "source": [
    "import numpy as np"
   ]
  },
  {
   "cell_type": "markdown",
   "id": "483cdbee-6897-49b7-ae03-4a9b3fbde9c0",
   "metadata": {
    "editable": true,
    "slideshow": {
     "slide_type": ""
    },
    "tags": []
   },
   "source": [
    "# Experiment Time"
   ]
  },
  {
   "cell_type": "code",
   "execution_count": 4,
   "id": "cec0aaab-c30c-487a-8c99-c61bd827210c",
   "metadata": {},
   "outputs": [],
   "source": [
    "from module.layer import Dense\n",
    "from module.losses import meansquarederror,softmaxcrossentropy\n",
    "from module.optimizers import optimizer,SGD,SGDMomentum\n",
    "from module.activation import linear,tanh,sigmoid\n",
    "from module.network import NeuralNetwork\n",
    "from module.trainer import Trainer\n",
    "from module.dropout import DropOut\n",
    "from module.utils import softmax"
   ]
  },
  {
   "cell_type": "code",
   "execution_count": 5,
   "id": "7acc74d3-a170-4f6b-85e9-a73f15d9d155",
   "metadata": {},
   "outputs": [],
   "source": [
    "from module import mnist"
   ]
  },
  {
   "cell_type": "markdown",
   "id": "1b752e78-74cd-4c32-a121-14dab65ddeaa",
   "metadata": {},
   "source": [
    "# lets do some data processing and cleaning"
   ]
  },
  {
   "cell_type": "code",
   "execution_count": 6,
   "id": "cd382d85-0505-4426-92e3-7b32f8b312af",
   "metadata": {},
   "outputs": [],
   "source": [
    "#from keras.datasets import mnist\n",
    "#(x_train,y_train),(x_test,y_test)=mnist.load_data()"
   ]
  },
  {
   "cell_type": "code",
   "execution_count": 7,
   "id": "14d04c13-544b-4391-ba09-748ee1b674e8",
   "metadata": {},
   "outputs": [],
   "source": [
    "X_train, y_train, X_test, y_test = mnist.load()"
   ]
  },
  {
   "cell_type": "code",
   "execution_count": 8,
   "id": "cf155bb1-fa23-4b6a-9bed-836c57d3db51",
   "metadata": {},
   "outputs": [
    {
     "data": {
      "text/plain": [
       "(60000, 10000)"
      ]
     },
     "execution_count": 8,
     "metadata": {},
     "output_type": "execute_result"
    }
   ],
   "source": [
    "len(X_train),len(X_test)"
   ]
  },
  {
   "cell_type": "code",
   "execution_count": 9,
   "id": "a875863b-b254-4242-b09c-36ba5434e76d",
   "metadata": {},
   "outputs": [
    {
     "data": {
      "text/plain": [
       "((60000, 784), (10000, 784))"
      ]
     },
     "execution_count": 9,
     "metadata": {},
     "output_type": "execute_result"
    }
   ],
   "source": [
    "X_train.shape,X_test.shape"
   ]
  },
  {
   "cell_type": "code",
   "execution_count": 10,
   "id": "97ac6bf6-9acd-41ca-b7c4-5aa17fbcc542",
   "metadata": {},
   "outputs": [
    {
     "data": {
      "text/plain": [
       "((60000,), (10000,))"
      ]
     },
     "execution_count": 10,
     "metadata": {},
     "output_type": "execute_result"
    }
   ],
   "source": [
    "y_train.shape,y_test.shape"
   ]
  },
  {
   "cell_type": "code",
   "execution_count": 11,
   "id": "69c006cb-a70d-4d95-990d-1055a2744b12",
   "metadata": {},
   "outputs": [],
   "source": [
    "y_train=y_train.reshape(-1,1)\n",
    "y_test=y_test.reshape(-1,1)"
   ]
  },
  {
   "cell_type": "code",
   "execution_count": 12,
   "id": "8258aed3-1d7b-47a8-9ae9-d2db200c1f01",
   "metadata": {},
   "outputs": [
    {
     "data": {
      "text/plain": [
       "((60000, 1), (10000, 1))"
      ]
     },
     "execution_count": 12,
     "metadata": {},
     "output_type": "execute_result"
    }
   ],
   "source": [
    "y_train.shape,y_test.shape"
   ]
  },
  {
   "cell_type": "code",
   "execution_count": 15,
   "id": "afe7a0db-23d8-4238-96f0-debd3c20094e",
   "metadata": {},
   "outputs": [],
   "source": [
    "#one hot encoding of the output\n",
    "\n",
    "#for training\n",
    "train_count=len(X_train)\n",
    "train_labels=np.zeros((train_count,10))\n",
    "for i in range(train_count):\n",
    "    train_labels[i][y_train[i]]=1\n",
    "#for testing\n",
    "test_count=len(X_test)\n",
    "test_labels=np.zeros((test_count,10))\n",
    "for i in range(test_count):\n",
    "    test_labels[i][y_test[i]]=1"
   ]
  },
  {
   "cell_type": "code",
   "execution_count": 16,
   "id": "e0cfce84-cc6f-44f0-9357-81e2aa698184",
   "metadata": {
    "scrolled": true
   },
   "outputs": [
    {
     "data": {
      "text/plain": [
       "array([[0., 0., 0., ..., 0., 0., 0.],\n",
       "       [1., 0., 0., ..., 0., 0., 0.],\n",
       "       [0., 0., 0., ..., 0., 0., 0.],\n",
       "       ...,\n",
       "       [0., 0., 0., ..., 0., 0., 0.],\n",
       "       [0., 0., 0., ..., 0., 0., 0.],\n",
       "       [0., 0., 0., ..., 0., 1., 0.]])"
      ]
     },
     "execution_count": 16,
     "metadata": {},
     "output_type": "execute_result"
    }
   ],
   "source": [
    "train_labels"
   ]
  },
  {
   "cell_type": "code",
   "execution_count": 17,
   "id": "4ebc3f7b-7596-41dd-a550-c0ac8a1f9d7b",
   "metadata": {},
   "outputs": [
    {
     "data": {
      "text/plain": [
       "((60000, 10), (10000, 10))"
      ]
     },
     "execution_count": 17,
     "metadata": {},
     "output_type": "execute_result"
    }
   ],
   "source": [
    "train_labels.shape,test_labels.shape"
   ]
  },
  {
   "cell_type": "code",
   "execution_count": 18,
   "id": "93a70cb8-7365-4f94-a64c-47fff569d18e",
   "metadata": {},
   "outputs": [
    {
     "data": {
      "text/plain": [
       "array([[0., 0., 0., ..., 1., 0., 0.],\n",
       "       [0., 0., 1., ..., 0., 0., 0.],\n",
       "       [0., 1., 0., ..., 0., 0., 0.],\n",
       "       ...,\n",
       "       [0., 0., 0., ..., 0., 0., 0.],\n",
       "       [0., 0., 0., ..., 0., 0., 0.],\n",
       "       [0., 0., 0., ..., 0., 0., 0.]])"
      ]
     },
     "execution_count": 18,
     "metadata": {},
     "output_type": "execute_result"
    }
   ],
   "source": [
    "test_labels"
   ]
  },
  {
   "cell_type": "code",
   "execution_count": 19,
   "id": "5bb43348-7f6e-4477-8c18-18644f6e4d19",
   "metadata": {},
   "outputs": [
    {
     "data": {
      "text/plain": [
       "(10000, 10)"
      ]
     },
     "execution_count": 19,
     "metadata": {},
     "output_type": "execute_result"
    }
   ],
   "source": [
    "test_labels.shape"
   ]
  },
  {
   "cell_type": "markdown",
   "id": "04f12976-4764-4cc0-bb3c-05de850fab59",
   "metadata": {},
   "source": [
    "# MNIST DEMO"
   ]
  },
  {
   "cell_type": "code",
   "execution_count": 20,
   "id": "1617132e-d6cf-4236-a76e-9525032742df",
   "metadata": {},
   "outputs": [],
   "source": [
    "X_train,X_test=X_train-np.mean(X_train),X_test-np.mean(X_train)\n",
    "X_train,X_test=X_train/np.std(X_train),X_test/np.std(X_train)"
   ]
  },
  {
   "cell_type": "code",
   "execution_count": 21,
   "id": "0ef8447d-459e-48f4-8529-150a6b0f191b",
   "metadata": {},
   "outputs": [
    {
     "data": {
      "text/plain": [
       "-0.424073894391566"
      ]
     },
     "execution_count": 21,
     "metadata": {},
     "output_type": "execute_result"
    }
   ],
   "source": [
    "np.min(X_train)"
   ]
  },
  {
   "cell_type": "code",
   "execution_count": 22,
   "id": "d8da1ffd-99c3-42bc-9c93-3aad32e1d2c7",
   "metadata": {},
   "outputs": [
    {
     "data": {
      "text/plain": [
       "(10000, 1)"
      ]
     },
     "execution_count": 22,
     "metadata": {},
     "output_type": "execute_result"
    }
   ],
   "source": [
    "y_test.shape"
   ]
  },
  {
   "cell_type": "code",
   "execution_count": 23,
   "id": "5e13c9aa-1652-4174-99d0-965174d6daa9",
   "metadata": {},
   "outputs": [
    {
     "data": {
      "text/plain": [
       "2.821543345689335"
      ]
     },
     "execution_count": 23,
     "metadata": {},
     "output_type": "execute_result"
    }
   ],
   "source": [
    "np.max(X_train)"
   ]
  },
  {
   "cell_type": "code",
   "execution_count": 24,
   "id": "2ad514e8-d859-439e-8fb2-1f86cc2c8747",
   "metadata": {},
   "outputs": [],
   "source": [
    "#def calc_accuracy_model(model,x_test,y_test):\n",
    "#    return print(f'''The model validation accuracy is: {np.equal(np.argmax(model.forward(x_test),axis=1), y_test).sum()*100.0/ x_test.shape[0]:.2f}%''')"
   ]
  },
  {
   "cell_type": "code",
   "execution_count": 25,
   "id": "d55bac7a-9834-4d1f-8c78-c252cc38bcf3",
   "metadata": {},
   "outputs": [],
   "source": [
    "\n",
    "def calc_accuracy_model(model, test_set, test_labels):\n",
    "    model_output = model.forward(test_set)\n",
    "    \n",
    "    # Convert one-hot encoded labels to integer labels\n",
    "    predicted_labels = np.argmax(model_output, axis=1)\n",
    "    true_labels = np.argmax(test_labels, axis=1)\n",
    "\n",
    "    correct_predictions = np.equal(predicted_labels, true_labels)\n",
    "    \n",
    "    accuracy = correct_predictions.sum() * 100.0 / test_set.shape[0]\n",
    "    return print(f'''The model validation accuracy is: {accuracy:.2f}%''')\n"
   ]
  },
  {
   "cell_type": "markdown",
   "id": "fabafd06-00f8-44fd-9b89-1b42823b4526",
   "metadata": {},
   "source": [
    "# Using different types of Activation function"
   ]
  },
  {
   "cell_type": "markdown",
   "id": "a3164b55-3d03-46d9-8886-02bd763ec09f",
   "metadata": {},
   "source": [
    "## using Sigmoid Activation Function "
   ]
  },
  {
   "cell_type": "code",
   "execution_count": 26,
   "id": "8d12c8c0-b68e-44e8-914f-35e7780fee8e",
   "metadata": {},
   "outputs": [
    {
     "name": "stdout",
     "output_type": "stream",
     "text": [
      "validation loss after 10 is 0.991\n",
      "validation loss after 20 is 0.975\n",
      "validation loss after 30 is 0.966\n",
      "validation loss after 40 is 0.954\n",
      "validation loss after 50 is 0.939\n",
      "training complete\n",
      "\n"
     ]
    }
   ],
   "source": [
    "model=NeuralNetwork(\n",
    "    layers=[\n",
    "        Dense(neurons=89,activation=tanh()),\n",
    "        Dense(neurons=10,activation=sigmoid())\n",
    "    ],\n",
    "    loss=meansquarederror(normalize=False)\n",
    ")\n",
    "\n",
    "trainer=Trainer(model,SGD(0.1))\n",
    "trainer.fit(X_train,\n",
    "    train_labels,\n",
    "    X_test,\n",
    "    test_labels,epochs=50,eval_every=10,seed=42,batch_sz=60\n",
    "           );\n",
    "       \n",
    "print()"
   ]
  },
  {
   "cell_type": "code",
   "execution_count": 27,
   "id": "937ade70-be68-416e-9c82-b42a84b3e81c",
   "metadata": {},
   "outputs": [
    {
     "name": "stdout",
     "output_type": "stream",
     "text": [
      "The model validation accuracy is: 21.57%\n"
     ]
    }
   ],
   "source": [
    "calc_accuracy_model(model,X_test,y_test)"
   ]
  },
  {
   "cell_type": "markdown",
   "id": "45b4c2d8-06d2-400a-9241-a508ce50d709",
   "metadata": {},
   "source": [
    "## lets not normalize the output"
   ]
  },
  {
   "cell_type": "code",
   "execution_count": 28,
   "id": "a9290bb7-a8e0-4a5a-890d-5be8f2cfbcb3",
   "metadata": {},
   "outputs": [
    {
     "name": "stdout",
     "output_type": "stream",
     "text": [
      "validation loss after 10 is 0.991\n",
      "validation loss after 20 is 0.975\n",
      "validation loss after 30 is 0.966\n",
      "validation loss after 40 is 0.954\n",
      "validation loss after 50 is 0.939\n",
      "training complete\n",
      "\n"
     ]
    }
   ],
   "source": [
    "\n",
    "model=NeuralNetwork(\n",
    "    layers=[\n",
    "        Dense(neurons=89,activation=tanh()),\n",
    "        Dense(neurons=10,activation=sigmoid())\n",
    "    ],\n",
    "    loss=meansquarederror()\n",
    ")\n",
    "\n",
    "trainer=Trainer(model,SGD(0.1))\n",
    "trainer.fit(X_train,\n",
    "    train_labels,\n",
    "    X_test,\n",
    "    test_labels,epochs=50,eval_every=10,seed=42,batch_sz=60\n",
    "           );\n",
    "       \n",
    "print()"
   ]
  },
  {
   "cell_type": "code",
   "execution_count": 29,
   "id": "9e5b9646-97f7-4868-9bb2-e464f0b28122",
   "metadata": {
    "scrolled": true
   },
   "outputs": [
    {
     "name": "stdout",
     "output_type": "stream",
     "text": [
      "The model validation accuracy is: 13.32%\n"
     ]
    }
   ],
   "source": [
    "calc_accuracy_model(model,X_test,test_labels)"
   ]
  },
  {
   "cell_type": "markdown",
   "id": "f1593aa7-07db-434e-983d-a26de4bd2bd8",
   "metadata": {},
   "source": [
    "### lets use softmax cross entropy"
   ]
  },
  {
   "cell_type": "code",
   "execution_count": 30,
   "id": "43ecf2dc-cca2-4d8d-bbd0-bf05010457c5",
   "metadata": {},
   "outputs": [
    {
     "name": "stdout",
     "output_type": "stream",
     "text": [
      "validation loss after 10 is 0.927\n",
      "validation loss after 20 is 0.916\n",
      "validation loss after 30 is 0.907\n",
      "validation loss after 40 is 0.897\n",
      "validation loss after 50 is 0.886\n",
      "training complete\n",
      "\n"
     ]
    }
   ],
   "source": [
    "model3=NeuralNetwork(\n",
    "    layers=[\n",
    "        Dense(neurons=89,activation=tanh()),\n",
    "        Dense(neurons=10)\n",
    "    ],\n",
    "    loss=softmaxcrossentropy()\n",
    ")\n",
    "\n",
    "trainer=Trainer(model,SGD(0.1))\n",
    "trainer.fit(X_train,\n",
    "    train_labels,\n",
    "    X_test,\n",
    "    test_labels,epochs=50,eval_every=10,seed=42,batch_sz=60\n",
    "           );\n",
    "       \n",
    "print()"
   ]
  },
  {
   "cell_type": "code",
   "execution_count": 31,
   "id": "e96ac6fc-46fa-466d-95a9-db35d59f9ce5",
   "metadata": {},
   "outputs": [
    {
     "name": "stdout",
     "output_type": "stream",
     "text": [
      "The model validation accuracy is: 10.06%\n"
     ]
    }
   ],
   "source": [
    "calc_accuracy_model(model3,X_test,test_labels)"
   ]
  },
  {
   "cell_type": "markdown",
   "id": "da2169d3-9bf9-4b0c-b08b-d4b4ae4e9998",
   "metadata": {},
   "source": [
    "# momentum"
   ]
  },
  {
   "cell_type": "code",
   "execution_count": 32,
   "id": "2158b77c-b4b5-4ef8-be08-b0e3b9edcccd",
   "metadata": {},
   "outputs": [
    {
     "name": "stdout",
     "output_type": "stream",
     "text": [
      "validation loss after 10 is 1.000\n",
      "validation loss after 20 is 1.000\n",
      "\n",
      "loss increased after 30,final loss was 1.000, \n",
      " we are using the model from epoch 20\n",
      "training complete\n",
      "\n"
     ]
    }
   ],
   "source": [
    "model4=NeuralNetwork(\n",
    "    layers=[\n",
    "        Dense(neurons=89,activation=tanh()),\n",
    "        Dense(neurons=10)\n",
    "    ],\n",
    "    loss=softmaxcrossentropy()\n",
    ")\n",
    "\n",
    "trainer=Trainer(model,SGDMomentum(lr=0.1,momentum=0.9))\n",
    "trainer.fit(X_train,\n",
    "    train_labels,\n",
    "    X_test,\n",
    "    test_labels,epochs=50,eval_every=10,seed=42,batch_sz=60\n",
    "           );\n",
    "       \n",
    "print()"
   ]
  },
  {
   "cell_type": "code",
   "execution_count": 33,
   "id": "6660f5b0-89ac-4d40-9b26-8603ec03a2fa",
   "metadata": {},
   "outputs": [
    {
     "name": "stdout",
     "output_type": "stream",
     "text": [
      "The model validation accuracy is: 10.06%\n"
     ]
    }
   ],
   "source": [
    "calc_accuracy_model(model4,X_test,test_labels)"
   ]
  },
  {
   "cell_type": "markdown",
   "id": "6dd91c8c-de9a-4488-80ed-b6a75c761258",
   "metadata": {},
   "source": [
    "# with learning rate decay"
   ]
  },
  {
   "cell_type": "markdown",
   "id": "8cca8150-6057-4460-a27d-aafe7fa3077f",
   "metadata": {},
   "source": [
    "## with linear decay type"
   ]
  },
  {
   "cell_type": "code",
   "execution_count": 34,
   "id": "059d1fbc-7058-4df2-9e7e-e796bbecbf05",
   "metadata": {},
   "outputs": [
    {
     "name": "stdout",
     "output_type": "stream",
     "text": [
      "validation loss after 10 is 1.000\n"
     ]
    },
    {
     "name": "stderr",
     "output_type": "stream",
     "text": [
      "C:\\Users\\nebiy\\Documents\\deep_learning_scratch\\module\\activation.py:19: RuntimeWarning: overflow encountered in exp\n",
      "  return 1.0/(1.0+np.exp(-1.0*self.input_))\n"
     ]
    },
    {
     "name": "stdout",
     "output_type": "stream",
     "text": [
      "\n",
      "loss increased after 20,final loss was 1.000, \n",
      " we are using the model from epoch 10\n",
      "training complete\n",
      "\n"
     ]
    }
   ],
   "source": [
    "model4=NeuralNetwork(\n",
    "    layers=[\n",
    "        Dense(neurons=89,activation=tanh()),\n",
    "        Dense(neurons=10)\n",
    "    ],\n",
    "    loss=softmaxcrossentropy()\n",
    ")\n",
    "optimizer=SGDMomentum(lr=0.15,final_lr=0.01,momentum=0.9,decay_type=\"linear\")\n",
    "trainer=Trainer(model,optimizer)\n",
    "trainer.fit(X_train,\n",
    "    train_labels,\n",
    "    X_test,\n",
    "    test_labels,epochs=50,eval_every=10,seed=42,batch_sz=60\n",
    "           );\n",
    "       \n",
    "print()"
   ]
  },
  {
   "cell_type": "code",
   "execution_count": 35,
   "id": "557b23cf-734d-4ae6-9099-f3e7aeceda65",
   "metadata": {},
   "outputs": [
    {
     "name": "stdout",
     "output_type": "stream",
     "text": [
      "The model validation accuracy is: 10.06%\n"
     ]
    }
   ],
   "source": [
    "calc_accuracy_model(model4,X_test,test_labels)"
   ]
  },
  {
   "cell_type": "markdown",
   "id": "2bd3da95-45ca-4850-87d5-58f6fd28e6b1",
   "metadata": {},
   "source": [
    "## with Exponential decay type"
   ]
  },
  {
   "cell_type": "code",
   "execution_count": 36,
   "id": "02108a54-0055-4ac9-9914-4f571d56dffc",
   "metadata": {},
   "outputs": [
    {
     "name": "stdout",
     "output_type": "stream",
     "text": [
      "validation loss after 10 is 1.000\n",
      "\n",
      "loss increased after 20,final loss was 1.000, \n",
      " we are using the model from epoch 10\n",
      "training complete\n",
      "\n"
     ]
    }
   ],
   "source": [
    "model5=NeuralNetwork(\n",
    "    layers=[\n",
    "        Dense(neurons=89,activation=tanh()),\n",
    "        Dense(neurons=10)\n",
    "    ],\n",
    "    loss=softmaxcrossentropy()\n",
    ")\n",
    "optimizer=SGDMomentum(lr=0.15,final_lr=0.01,momentum=0.9,decay_type=\"Exponential\")\n",
    "trainer=Trainer(model,optimizer)\n",
    "trainer.fit(X_train,\n",
    "    train_labels,\n",
    "    X_test,\n",
    "    test_labels,epochs=50,eval_every=10,seed=42,batch_sz=60\n",
    "           );\n",
    "       \n",
    "print()"
   ]
  },
  {
   "cell_type": "code",
   "execution_count": 37,
   "id": "78fb9f8f-54b7-49da-a1ed-d752985bdfd5",
   "metadata": {},
   "outputs": [
    {
     "name": "stdout",
     "output_type": "stream",
     "text": [
      "The model validation accuracy is: 10.06%\n"
     ]
    }
   ],
   "source": [
    "calc_accuracy_model(model5,X_test,test_labels)"
   ]
  },
  {
   "cell_type": "markdown",
   "id": "097bfa28-13f2-456b-852b-ffadb08adb9d",
   "metadata": {},
   "source": [
    "# using the Glorort weight initialization"
   ]
  },
  {
   "cell_type": "code",
   "execution_count": 38,
   "id": "26cd90fb-0c69-4cd6-a957-dafdb68367e9",
   "metadata": {},
   "outputs": [],
   "source": [
    "### with Expoential learing rate decay"
   ]
  },
  {
   "cell_type": "code",
   "execution_count": 39,
   "id": "d60b3fb7-504c-408d-b5cf-de898f0a89a7",
   "metadata": {},
   "outputs": [
    {
     "name": "stdout",
     "output_type": "stream",
     "text": [
      "validation loss after 10 is 1.000\n",
      "\n",
      "loss increased after 20,final loss was 1.000, \n",
      " we are using the model from epoch 10\n",
      "training complete\n",
      "\n"
     ]
    }
   ],
   "source": [
    "model6=NeuralNetwork(\n",
    "    layers=[\n",
    "        Dense(neurons=89,activation=tanh(),weight_init=\"glorot\"),\n",
    "        Dense(neurons=10,weight_init=\"glorot\")\n",
    "    ],\n",
    "    loss=softmaxcrossentropy(),\n",
    "    seed=20190119\n",
    ")\n",
    "optimizer=SGDMomentum(lr=0.15,final_lr=0.01,momentum=0.9,decay_type=\"Exponential\")\n",
    "trainer=Trainer(model,optimizer)\n",
    "trainer.fit(X_train,\n",
    "    train_labels,\n",
    "    X_test,\n",
    "    test_labels,epochs=50,eval_every=10,seed=42,batch_sz=60\n",
    "           );\n",
    "       \n",
    "print()"
   ]
  },
  {
   "cell_type": "code",
   "execution_count": 40,
   "id": "671432af-67e7-4e90-90a4-3d5321d0dbb5",
   "metadata": {},
   "outputs": [
    {
     "name": "stdout",
     "output_type": "stream",
     "text": [
      "The model validation accuracy is: 10.31%\n"
     ]
    }
   ],
   "source": [
    "calc_accuracy_model(model6,X_test,test_labels)"
   ]
  },
  {
   "cell_type": "markdown",
   "id": "61b811a3-13ed-4757-8c5f-5ef0e6f40026",
   "metadata": {},
   "source": [
    "## with linear learning rate decay"
   ]
  },
  {
   "cell_type": "code",
   "execution_count": 41,
   "id": "fabafdec-cdee-4fa6-adc9-d6a771eb3df1",
   "metadata": {},
   "outputs": [
    {
     "name": "stdout",
     "output_type": "stream",
     "text": [
      "validation loss after 10 is 1.000\n",
      "\n",
      "loss increased after 20,final loss was 1.000, \n",
      " we are using the model from epoch 10\n",
      "training complete\n",
      "\n"
     ]
    }
   ],
   "source": [
    "model7=NeuralNetwork(\n",
    "    layers=[\n",
    "        Dense(neurons=89,activation=tanh(),weight_init=\"glorot\"),\n",
    "        Dense(neurons=10,weight_init=\"glorot\")\n",
    "    ],\n",
    "    loss=softmaxcrossentropy(),\n",
    "    seed=20190119\n",
    ")\n",
    "optimizer=SGDMomentum(lr=0.15,final_lr=0.01,momentum=0.9,decay_type=\"linear\")\n",
    "trainer=Trainer(model,optimizer)\n",
    "trainer.fit(X_train,\n",
    "    train_labels,\n",
    "    X_test,\n",
    "    test_labels,epochs=50,eval_every=10,seed=42,batch_sz=60\n",
    "           );\n",
    "       \n",
    "print()"
   ]
  },
  {
   "cell_type": "code",
   "execution_count": 42,
   "id": "074f6f20-ff51-45b3-b2f8-e408b66d0a19",
   "metadata": {},
   "outputs": [
    {
     "name": "stdout",
     "output_type": "stream",
     "text": [
      "The model validation accuracy is: 10.31%\n"
     ]
    }
   ],
   "source": [
    "calc_accuracy_model(model7,X_test,test_labels)"
   ]
  },
  {
   "cell_type": "markdown",
   "id": "534f2a51-7f96-4767-9c3e-ebc4eebf1f4a",
   "metadata": {},
   "source": [
    "# lets see what happens when adding a dropout layer"
   ]
  },
  {
   "cell_type": "code",
   "execution_count": 43,
   "id": "20df187c-53d1-41ac-918f-65214382feb8",
   "metadata": {},
   "outputs": [
    {
     "name": "stdout",
     "output_type": "stream",
     "text": [
      "validation loss after 10 is 372645.767\n",
      "\n",
      "loss increased after 20,final loss was 372645.767, \n",
      " we are using the model from epoch 10\n",
      "training complete\n",
      "\n"
     ]
    }
   ],
   "source": [
    "model8=NeuralNetwork(\n",
    "    layers=[\n",
    "        Dense(neurons=178,\n",
    "              activation=tanh(),\n",
    "              weight_init=\"glorot\",\n",
    "             dropout=0.8),\n",
    "        Dense(neurons=178,\n",
    "              activation=tanh(),\n",
    "              weight_init=\"glorot\",\n",
    "             dropout=0.8),\n",
    "        Dense(neurons=10,\n",
    "              activation=linear(),\n",
    "              weight_init=\"glorot\",\n",
    "             dropout=0.8),\n",
    "        \n",
    "    ],\n",
    "    loss=softmaxcrossentropy(),\n",
    "    seed=20190119\n",
    ")\n",
    "optimizer=SGDMomentum(lr=0.15,final_lr=0.01,momentum=0.9,decay_type=\"linear\")\n",
    "trainer=Trainer(model8,optimizer)\n",
    "trainer.fit(X_train,\n",
    "    train_labels,\n",
    "    X_test,\n",
    "    test_labels,epochs=50,eval_every=10,seed=42,batch_sz=60\n",
    "           );\n",
    "       \n",
    "print()"
   ]
  }
 ],
 "metadata": {
  "kernelspec": {
   "display_name": "Python 3 (ipykernel)",
   "language": "python",
   "name": "python3"
  },
  "language_info": {
   "codemirror_mode": {
    "name": "ipython",
    "version": 3
   },
   "file_extension": ".py",
   "mimetype": "text/x-python",
   "name": "python",
   "nbconvert_exporter": "python",
   "pygments_lexer": "ipython3",
   "version": "3.8.18"
  }
 },
 "nbformat": 4,
 "nbformat_minor": 5
}
